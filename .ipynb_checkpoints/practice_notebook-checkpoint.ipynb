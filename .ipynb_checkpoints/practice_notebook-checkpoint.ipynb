{
 "cells": [
  {
   "cell_type": "code",
   "execution_count": 1,
   "metadata": {},
   "outputs": [],
   "source": [
    "import coffea\n",
    "import numpy as np\n",
    "import awkward as ak\n",
    "from coffea import hist, processor\n",
    "from coffea.analysis_tools import PackedSelection\n",
    "from coffea.nanoevents import NanoEventsFactory, NanoAODSchema"
   ]
  },
  {
   "cell_type": "code",
   "execution_count": 2,
   "metadata": {},
   "outputs": [],
   "source": [
    "fname = '/afs/crc.nd.edu/user/i/imcalist/Public/XConettbar.root'\n",
    "events = NanoEventsFactory.from_root(fname, schemaclass=NanoAODSchema,entry_start=0).events()"
   ]
  },
  {
   "cell_type": "code",
   "execution_count": 3,
   "metadata": {},
   "outputs": [],
   "source": [
    "e = events.Electron"
   ]
  },
  {
   "cell_type": "code",
   "execution_count": 4,
   "metadata": {},
   "outputs": [],
   "source": [
    "def isTightElec(pt, eta, dxy, dz, miniIso, sip3D, mvaTTH, elecMVA, lostHits, convVeto, tightCharge, sieie, hoe, eInvMinusPInv, minpt=15.0):\n",
    "  maskPOGMVA = ((pt<10)&(abs(eta)<0.8)&(elecMVA>-0.13))|((pt<10)&(abs(eta)>0.8)&(abs(eta)<1.44)&(elecMVA>-0.32))|((pt<10)&(abs(eta)>1.44)&(elecMVA>-0.08))|\\\n",
    "               ((pt>10)&(abs(eta)<0.8)&(elecMVA>-0.86))|((pt>10)&(abs(eta)>0.8)&(abs(eta)<1.44)&(elecMVA>-0.81))|((pt>10)&(abs(eta)>1.44)&(elecMVA>-0.72))\n",
    "  maskSieie  = ((abs(eta)<1.479)&(sieie<0.011))|((abs(eta)>1.479)&(sieie<0.030))\n",
    "  maskhoe    = ((abs(eta)<1.479)&(hoe<0.10))|((abs(eta)>1.479)&(hoe<0.07))\n",
    "  mask = (pt>minpt)&(abs(eta)<2.5)&(abs(dxy)<0.05)&(abs(dz)<0.1)&(sip3D<8)&(lostHits<=1)&\\\n",
    "         (convVeto)&(maskSieie)&(maskPOGMVA)&(eInvMinusPInv>-0.04)&(maskhoe)&(miniIso<0.25)&(mvaTTH>0.90)&(tightCharge==2)\n",
    "  return mask"
   ]
  },
  {
   "cell_type": "code",
   "execution_count": 5,
   "metadata": {},
   "outputs": [],
   "source": [
    "def isTightMuon(pt, eta, dxy, dz, miniIso, sip3D, mvaTTH, mediumPrompt, tightCharge, looseId, minpt=10.0):\n",
    "  mask = (pt>minpt)&(abs(eta)<2.5)&(abs(dxy)<0.05)&(abs(dz)<0.1)&(sip3D<8)&(looseId)&(miniIso<0.25)&(mvaTTH>0.90)&(tightCharge==2)&(mediumPrompt)\n",
    "  return mask"
   ]
  },
  {
   "cell_type": "code",
   "execution_count": 6,
   "metadata": {},
   "outputs": [
    {
     "name": "stdout",
     "output_type": "stream",
     "text": [
      "Total events14400\n"
     ]
    }
   ],
   "source": [
    "print(\"Total events\" + str(ak.num(e, axis=0)))\n",
    "       "
   ]
  },
  {
   "cell_type": "code",
   "execution_count": 7,
   "metadata": {},
   "outputs": [],
   "source": [
    " e['isTightElec'] = isTightElec(e.pt, e.eta, e.dxy, e.dz, e.miniPFRelIso_all, e.sip3d, e.mvaTTH, e.mvaFall17V2Iso, e.lostHits, e.convVeto, e.tightCharge, e.sieie, e.hoe, e.eInvMinusPInv, minpt=30)\n",
    "        "
   ]
  },
  {
   "cell_type": "code",
   "execution_count": 8,
   "metadata": {},
   "outputs": [],
   "source": [
    "e = e[e.isTightElec]\n",
    "        "
   ]
  },
  {
   "cell_type": "code",
   "execution_count": 9,
   "metadata": {},
   "outputs": [],
   "source": [
    "ak.Array._str(e, limit_value=10000);"
   ]
  },
  {
   "cell_type": "code",
   "execution_count": 10,
   "metadata": {},
   "outputs": [],
   "source": [
    "elec = ak.flatten(e.pt)\n",
    "       "
   ]
  },
  {
   "cell_type": "code",
   "execution_count": 11,
   "metadata": {},
   "outputs": [
    {
     "name": "stdout",
     "output_type": "stream",
     "text": [
      "Total events after electron cut: 1050\n"
     ]
    }
   ],
   "source": [
    "print('Total events after electron cut: ' +  str(ak.num(elec, axis=0)))\n",
    "        "
   ]
  },
  {
   "cell_type": "code",
   "execution_count": 12,
   "metadata": {},
   "outputs": [],
   "source": [
    "elecCount = ak.num(e, axis=1)"
   ]
  },
  {
   "cell_type": "code",
   "execution_count": 13,
   "metadata": {},
   "outputs": [],
   "source": [
    "mu = events.Muon"
   ]
  },
  {
   "cell_type": "code",
   "execution_count": 14,
   "metadata": {},
   "outputs": [],
   "source": [
    " mu['isTightMuon']= isTightMuon(mu.pt, mu.eta, mu.dxy, mu.dz, mu.pfRelIso03_all, mu.sip3d, mu.mvaTTH, mu.mediumPromptId, mu.tightCharge, mu.looseId, minpt=30)"
   ]
  },
  {
   "cell_type": "code",
   "execution_count": 15,
   "metadata": {},
   "outputs": [],
   "source": [
    "mu = mu[mu.isTightMuon]"
   ]
  },
  {
   "cell_type": "code",
   "execution_count": 19,
   "metadata": {},
   "outputs": [
    {
     "name": "stdout",
     "output_type": "stream",
     "text": [
      "14400\n"
     ]
    }
   ],
   "source": [
    "print(ak.num(mu, axis=0))"
   ]
  },
  {
   "cell_type": "code",
   "execution_count": 18,
   "metadata": {},
   "outputs": [
    {
     "data": {
      "text/plain": [
       "'[[], [], [], [Muon], [], [], [], [], [], [], [], [], [], [Muon], [], [], [], [], [], [], [], [], [Muon], [Muon], [], [], [], [Muon], [Muon], [], [], [], [], [], [Muon], [Muon], [Muon], [], [], [], [], [], [Muon], [], [], [], [], [], [Muon], [Muon], [], [], [], [], [], [], [], [], [], [Muon], [], [], [], [], [], [], [], [], [], [Muon], [], [], [], [], [], [], [], [], [], [], [Muon], [], [], [], [], [Muon], [], [], [], [], [], [Muon], [], [Muon], [], [], [], [], [], [], [], [], [], [Muon], [Muon], [], [], [], [], [Muon], [], [Muon], [Muon], [], [], [], [], [], [], [], [], [], [Muon], [], [], [], [Muon], [], [Muon], [], [], [], [Muon], [], [], [], [], [], [Muon], [], [], [], [], [], [Muon], [], [], [Muon], [], [], [], [], [], [], [Muon], [Muon], [], [], [], [], [], [], [], [], [], [], [Muon], [], [Muon], [], [], [Muon], [], [], [Muon], [], [], [], [], [], [Muon], [Muon], [], [Muon], [Muon], [], [], [], [], [], [], [], [], [], [], [], [], [], [], [], [], [], [], [], [], [], [], [], [], [], [], [], [], [], [Muon], [], [Muon], [], [], [Muon], [], [Muon], [], [], [], [Muon], [], [], [], [Muon], [], [], [], [], [], [], [], [], [], [], [], [], [], [], [], [], [], [], [], [], [], [Muon], [Muon], [Muon], [], [Muon], [], [], [], [Muon], [], [Muon], [], [], [], [Muon], [Muon], [Muon], [], [], [], [], [], [Muon], [], [], [], [], [], [], [], [Muon], [], [Muon], [], [Muon], [], [], [], [], [Muon], [], [], [Muon], [Muon], [], [], [], [], [], [Muon], [], [], [], [], [], [Muon], [Muon], [], [], [], [], [], [Muon], [], [], [], [], [], [], [Muon], [], [Muon], [], [Muon], [], [], [], [], [Muon], [], [], [Muon], [Muon], [], [], [Muon], [], [Muon], [], [], [], [], [], [], [], [], [Muon], [], [], [], [], [], [], [], [], [], [], [Muon], [], [], [], [], [], [Muon], [], [], [], [Muon], [], [Muon], [], [], [Muon], [], [], [], [Muon], [], [Muon], [], [], [], [Muon], [], [Muon], [], [Muon], [], [], [], [], [], [Muon], [Muon], [], [], [], [], [], [], [], [], [], [], [], [], [], [], [], [], [], [Muon], [], [], [], [], [], [], [], [], [], [], [], [], [], [], [], [], [Muon], [], [Muon], [], [], [Muon], [Muon], [], [], [Muon], [Muon], [], [Muon], [], [], [], [], [], [], [Muon], [], [Muon], [], [], [], [], [], [], [], [Muon], [Muon], [], [], [], [Muon], [], [], [], [], [], [], [], [], [], [], [Muon], [], [], [], [], [], [], [Muon], [], [], [], [Muon], [], [], [], [], [], [], [], [], [Muon], [Muon], [], [], [], [Muon], [], [], [Muon], [], [Muon], [], [], [], [], [Muon], [Muon], [], [], [], [Muon], [Muon], [Muon], [], [], [Muon], [], [], [], [], [], [], [], [], [], [], [], [], [], [Muon], [], [Muon], [], [Muon], [], [], [], [Muon], [], [], [Muon], [Muon], [Muon], [], [], [], [], [], [], [], [], [], [], [], [Muon], [], [], [], [], [Muon], [], [], [Muon], [Muon], [], [], [Muon], [], [], [], [], [], [], [], [Muon], [], [], [], [], [], [], [], [], [], [], [], [], [], [], [], [], [], [], [], [], [], [], [], [], [], [], [], [], [], [], [], [], [], [], [], [], [], [], [], [], [], [], [], [], [], [], [Muon], [], [], [Muon], [], [Muon], [Muon], [], [], [], [], [], [Muon], [], [Muon], [Muon], [], [Muon], [], [], [], [Muon], [Muon], [], [], [], [Muon], [], [], [], [], [], [Muon], [], [], [], [], [], [], [], [Muon], [], [], [Muon], [Muon], [], [], [], [], [], [Muon], [], [], [], [], [Muon], [], [], [], [], [Muon], [], [], [], [Muon], [Muon], [], [], [Muon], [Muon], [], [], [], [], [Muon], [], [Muon], [], [], [Muon], [], [], [], [], [], [], [], [], [], [], [], [], [], [], [], [], [], [], [], [], [Muon], [], [], [], [], [Muon], [Muon], [], [Muon], [], [], [], [], [], [], [], [], [Muon], [], [], [], [], [Muon], [], [], [Muon], [], [Muon], [Muon], [], [], [], [Muon], [], [], [], [], [], [], [], [], [], [], [], [], [], [], [Muon], [Muon], [], [], [], [Muon], [], [], [Muon], [], [], [], [], [], [], [Muon], [], [], [Muon], [], [], [], [], [], [], [], [], [], [], [], [], [], [Muon], [], [], [], [], [], [Muon], [], [], [], [], [], [], [], [], [], [], [], [], [], [Muon], [], [], [], [], [], [], [], [], [], [], [], [], [], [], [Muon], [], [], [], [], [], [Muon], [], [], [], [], [], [], [], [], [], [], [], [], [], [], [], [], [], [], [], [], [Muon], [], [], [], [], [], [], [], [], [], [], [], [], [], [Muon], [], [], [], [], [], [], [], [], [Muon], [], [], [], [], [], [], [], [], [], [], [], [Muon], [], [Muon], [], [Muon], [], [Muon], [], [], [], [Muon], [], [Muon], [], [Muon], [], [], [], [], [Muon], [], [], [], [], [Muon], [], [], [], [], [], [], [], [], [], [Muon], [], [Muon], [], [], [], [], [], [], [Muon], [Muon], [], [], [], [Muon], [], [], [], [], [], [Muon], [], [], [], [], [], [], [], [Muon], [], [], [], [], [], [Muon], [], [], [], [Muon], [], [], [], [], [Muon], [], [Muon], [], [], [], [], [], [Muon], [], [Muon], [], [Muon], [], [Muon], [], [Muon], [], [], [], [], [], [Muon], [Muon], [], [], [Muon], [], [], [], [Muon], [], [], [], [Muon], [], [], [], [], [Muon], [], [], [Muon], [Muon], [], [], [], [], [], [], [], [Muon], [], [], [Muon], [], [], [], [], ... [], [], [], [Muon], [], [], [Muon], [], [], [], [], [], [], [], [], [Muon], [], [], [], [], [], [], [], [Muon], [], [], [], [], [], [], [], [], [], [], [], [Muon], [], [], [], [], [], [], [], [], [], [Muon], [], [], [], [], [], [], [], [], [], [Muon], [], [], [], [Muon], [], [Muon], [], [], [Muon], [], [Muon], [], [], [], [Muon], [Muon], [], [], [], [], [Muon], [], [], [], [], [], [], [], [], [], [], [], [], [], [Muon], [Muon], [], [], [], [Muon], [], [], [], [], [], [], [], [], [], [Muon], [], [], [], [], [], [], [], [Muon], [], [], [], [], [], [], [], [], [], [], [], [], [], [Muon], [Muon], [], [], [], [Muon], [], [], [Muon], [], [], [], [], [Muon], [], [], [], [], [], [Muon], [], [Muon], [Muon], [], [Muon], [Muon], [Muon], [], [Muon], [], [], [], [], [], [Muon], [], [], [], [Muon], [], [], [], [], [Muon], [], [], [Muon], [Muon], [], [Muon], [], [], [], [Muon], [], [], [], [], [], [], [], [Muon], [], [Muon], [], [], [], [Muon], [], [], [], [], [], [], [], [], [], [], [], [], [], [Muon], [], [], [Muon], [Muon], [Muon], [], [Muon], [], [], [], [Muon], [], [Muon], [], [], [Muon], [], [], [], [], [], [], [], [Muon], [], [Muon], [Muon], [], [], [], [Muon], [], [], [], [], [], [], [Muon], [], [], [Muon], [], [Muon], [], [], [Muon], [], [], [], [], [], [], [Muon], [], [], [], [], [], [], [], [], [], [], [Muon], [], [], [Muon], [], [Muon], [], [], [], [], [], [], [], [], [Muon], [], [Muon], [], [], [], [], [], [], [], [], [], [], [Muon], [], [Muon], [Muon], [], [Muon], [], [], [], [], [], [], [], [], [Muon], [], [], [], [], [], [], [Muon], [], [], [], [], [], [], [], [], [], [], [], [], [], [], [], [], [], [], [], [], [], [Muon], [], [], [], [], [Muon], [], [], [], [], [], [], [], [], [], [], [], [], [], [], [], [], [], [], [], [], [Muon], [Muon], [], [], [], [], [], [], [], [Muon], [Muon], [], [Muon], [], [], [], [], [], [], [], [], [], [], [], [], [], [], [], [], [], [], [Muon], [Muon], [Muon], [], [], [Muon], [], [], [], [], [], [], [], [], [], [], [Muon], [], [Muon], [], [Muon], [Muon], [], [], [], [Muon], [], [], [Muon], [Muon], [], [], [], [Muon], [Muon], [], [], [], [], [], [], [Muon], [], [Muon], [], [], [], [], [Muon], [], [], [], [], [], [Muon], [], [], [], [], [Muon], [], [], [], [Muon], [], [], [], [], [Muon], [], [Muon], [Muon], [], [], [], [], [], [], [], [], [], [Muon], [], [], [Muon], [], [], [], [], [], [Muon], [], [], [], [], [], [Muon], [], [], [], [], [Muon], [], [Muon], [], [], [], [], [], [], [], [], [], [], [], [], [], [], [], [], [], [Muon], [], [], [], [Muon], [], [], [], [], [], [], [], [], [], [Muon], [], [], [], [], [Muon], [], [], [], [], [], [Muon], [], [Muon], [Muon], [], [], [], [], [], [], [], [Muon], [Muon], [Muon], [Muon], [Muon], [Muon], [], [], [], [Muon], [], [], [], [], [], [], [], [], [Muon], [], [], [], [], [], [], [], [], [], [], [], [], [], [], [], [], [], [], [], [], [Muon], [], [Muon], [], [], [Muon], [], [Muon], [], [], [Muon], [], [], [], [Muon], [], [], [], [], [Muon], [], [], [], [], [], [], [], [Muon], [], [Muon], [Muon], [], [], [], [Muon], [], [], [], [Muon], [], [], [], [Muon], [Muon], [], [], [], [Muon], [], [], [], [], [], [], [], [], [], [], [Muon], [], [], [], [], [Muon], [], [], [], [], [], [], [], [], [Muon], [], [], [Muon], [], [], [], [], [], [], [], [], [], [], [], [], [], [], [], [Muon], [], [], [], [], [Muon], [], [], [Muon], [Muon], [Muon], [], [], [], [Muon], [], [], [Muon], [], [], [Muon], [], [], [Muon], [], [Muon], [], [Muon], [], [], [], [], [Muon], [Muon], [Muon], [], [], [], [], [], [], [], [], [], [], [], [], [], [Muon], [Muon], [], [], [], [], [], [], [], [], [Muon], [Muon], [], [], [], [], [Muon], [], [Muon], [], [], [Muon], [], [], [Muon], [], [], [Muon], [], [], [], [], [], [], [Muon], [], [], [Muon], [], [], [], [], [], [Muon], [], [], [], [], [], [], [], [], [Muon], [], [], [], [], [], [], [], [], [], [Muon], [], [Muon], [], [], [Muon], [], [], [], [], [Muon], [], [Muon], [Muon], [], [], [Muon], [], [], [], [], [], [Muon], [], [Muon], [], [], [Muon], [Muon], [], [], [], [], [], [], [], [], [], [], [], [Muon], [Muon], [], [], [], [Muon], [], [], [], [], [], [], [], [Muon], [], [], [], [], [], [], [], [], [], [Muon], [Muon], [], [], [], [], [], [], [Muon], [], [], [], [], [Muon], [], [], [Muon], [Muon], [Muon], [], [Muon], [Muon], [], [], [], [], [], [], [], [], [], [], [], [], [Muon], [], [], [], [], [], [], [], [Muon], [], [], [], [], [Muon], [Muon], [Muon], [Muon], [], [], [], [], [Muon], [], [], [], [], [], [], [], [], [], [], [], [], [], [], [], [], [], [], [], [], [], [], [Muon], [], [], [Muon], [], [Muon], [], [], [Muon], [], [], [], [], [], [], [], [], [], [], [Muon], [], [], [], [Muon], [], [], [], [], [], [], [], [Muon], [], [Muon], [], [], [], [], [], [], [Muon], [Muon], [], [Muon], [Muon], [], [], [Muon], [], [], [], [], [], [], [], [], [], [], [], [Muon], [], [], [], [], [Muon], [Muon], [], [], [Muon], [], [], [], [Muon], [], [], [Muon], [], [], [], [], [], [], [], [Muon], [Muon], [], [], [], [Muon], [], [], [], [], [], [], []]'"
      ]
     },
     "execution_count": 18,
     "metadata": {},
     "output_type": "execute_result"
    }
   ],
   "source": [
    "ak.Array._str(mu, limit_value=10000)"
   ]
  },
  {
   "cell_type": "code",
   "execution_count": 44,
   "metadata": {},
   "outputs": [
    {
     "data": {
      "text/plain": [
       "<Array [... isTightMuon: 2903}] type='1 * {\"dxy\": int64, \"dxyErr\": int64, \"dz\": ...'>"
      ]
     },
     "execution_count": 44,
     "metadata": {},
     "output_type": "execute_result"
    }
   ],
   "source": [
    "ak.count(mu, axis=0)"
   ]
  },
  {
   "cell_type": "code",
   "execution_count": 45,
   "metadata": {},
   "outputs": [],
   "source": [
    "j = events.Jet"
   ]
  },
  {
   "cell_type": "code",
   "execution_count": 46,
   "metadata": {},
   "outputs": [
    {
     "data": {
      "text/plain": [
       "<JetArray [[Jet, Jet, Jet, ... Jet, Jet, Jet]] type='14400 * var * jet'>"
      ]
     },
     "execution_count": 46,
     "metadata": {},
     "output_type": "execute_result"
    }
   ],
   "source": [
    "j"
   ]
  },
  {
   "cell_type": "code",
   "execution_count": 47,
   "metadata": {},
   "outputs": [
    {
     "data": {
      "text/plain": [
       "'[[Jet, Jet, Jet, Jet, Jet, Jet, Jet], [Jet, Jet, Jet, Jet], [Jet, Jet, Jet, Jet, Jet, Jet, Jet], [Jet, Jet, Jet, Jet, Jet, Jet, Jet, Jet], [Jet, Jet, Jet, Jet, Jet, Jet, Jet], [Jet, Jet, Jet, Jet, Jet, Jet, Jet, Jet], [Jet, Jet, Jet, Jet, Jet, Jet, Jet, Jet, Jet, Jet, Jet, Jet, Jet], [Jet, Jet, Jet, Jet, Jet, Jet, Jet, Jet, Jet], [Jet, Jet, Jet, Jet, Jet, Jet, Jet, Jet, Jet, Jet, Jet, Jet, Jet], [Jet, Jet, Jet, Jet, Jet], [Jet, Jet, Jet, Jet, Jet, Jet, Jet, Jet, Jet, Jet, Jet], [Jet, Jet, Jet, Jet, Jet, Jet, Jet, Jet, Jet, Jet, Jet, Jet, Jet, Jet], [Jet, Jet, Jet, Jet, Jet, Jet, Jet, Jet, Jet, Jet, Jet, Jet], [Jet, Jet, Jet, Jet, Jet, Jet], [Jet, Jet, Jet, Jet, Jet, Jet], [Jet, Jet, Jet, Jet, Jet, Jet, Jet, Jet, Jet, Jet], [Jet, Jet, Jet, Jet, Jet, Jet, Jet, Jet, Jet, Jet], [Jet, Jet, Jet, Jet, Jet, Jet, Jet, Jet, Jet, Jet, Jet, Jet], [Jet, Jet, Jet], [Jet, Jet, Jet, Jet, Jet, Jet, Jet, Jet, Jet, Jet], [Jet, Jet, Jet, Jet, Jet, Jet, Jet], [Jet, Jet, Jet, Jet, Jet, Jet, Jet, Jet, Jet, Jet, Jet, Jet], [Jet, Jet, Jet, Jet, Jet, Jet, Jet, Jet, Jet, Jet, Jet, Jet, Jet, Jet, Jet, Jet, Jet, Jet], [Jet, Jet, Jet, Jet, Jet, Jet, Jet, Jet, Jet, Jet, Jet, Jet, Jet, Jet], [Jet, Jet, Jet, Jet, Jet, Jet, Jet, Jet, Jet, Jet], [Jet, Jet, Jet, Jet, Jet, Jet, Jet, Jet, Jet, Jet, Jet, Jet, Jet, Jet], [Jet, Jet, Jet, Jet, Jet, Jet, Jet, Jet, Jet], [Jet, Jet, Jet, Jet, Jet, Jet, Jet, Jet, Jet, Jet, Jet, Jet, Jet, Jet], [Jet, Jet, Jet, Jet, Jet], [Jet, Jet, Jet, Jet, Jet, Jet, Jet, Jet, Jet, Jet], [Jet, Jet, Jet, Jet, Jet, Jet, Jet], [Jet, Jet, Jet, Jet, Jet, Jet, Jet, Jet], [Jet, Jet, Jet, Jet, Jet, Jet, Jet, Jet, Jet, Jet, Jet, Jet, Jet, Jet], [Jet, Jet, Jet, Jet, Jet, Jet, Jet, Jet, Jet, Jet, Jet], [Jet, Jet, Jet, Jet, Jet, Jet, Jet, Jet], [Jet, Jet, Jet, Jet, Jet, Jet, Jet, Jet, Jet, Jet, Jet, Jet, Jet, Jet], [Jet, Jet, Jet, Jet, Jet, Jet, Jet, Jet, Jet, Jet, Jet, Jet], [Jet, Jet, Jet, Jet, Jet, Jet, Jet, Jet, Jet, Jet], [Jet, Jet, Jet, Jet, Jet, Jet, Jet, Jet, Jet, Jet], [Jet, Jet, Jet, Jet, Jet, Jet, Jet, Jet, Jet, Jet], [Jet, Jet, Jet, Jet, Jet, Jet, Jet, Jet, Jet, Jet, Jet, Jet], [Jet, Jet, Jet, Jet, Jet, Jet, Jet, Jet, Jet, Jet, Jet, Jet], [Jet, Jet, Jet, Jet, Jet, Jet, Jet, Jet], [Jet, Jet, Jet, Jet, Jet, Jet, Jet], [Jet, Jet, Jet, Jet, Jet, Jet, Jet], [Jet, Jet, Jet, Jet, Jet, Jet, Jet, Jet, Jet], [Jet, Jet, Jet, Jet], [Jet, Jet, Jet, Jet, Jet, Jet, Jet, Jet, Jet], [Jet, Jet, Jet, Jet, Jet, Jet, Jet, Jet, Jet, Jet, Jet], [Jet, Jet, Jet, Jet, Jet, Jet, Jet, Jet, Jet], [Jet, Jet, Jet, Jet, Jet, Jet, Jet], [Jet, Jet, Jet, Jet, Jet, Jet, Jet, Jet, Jet, Jet, Jet, Jet, Jet, Jet], [Jet, Jet, Jet, Jet, Jet, Jet, Jet, Jet, Jet], [Jet, Jet, Jet, Jet, Jet, Jet, Jet, Jet, Jet], [Jet, Jet, Jet, Jet, Jet, Jet, Jet, Jet, Jet, Jet, Jet], [Jet, Jet, Jet, Jet, Jet, Jet, Jet, Jet, Jet, Jet], [Jet, Jet, Jet, Jet, Jet, Jet], [Jet, Jet, Jet, Jet, Jet, Jet, Jet, Jet, Jet, Jet, Jet, Jet, Jet], [Jet, Jet, Jet, Jet, Jet, Jet, Jet, Jet, Jet], [Jet, Jet, Jet, Jet, Jet, Jet, Jet, Jet, Jet], [Jet, Jet, Jet, Jet, Jet, Jet, Jet, Jet, Jet], [Jet, Jet, Jet, Jet, Jet, Jet, Jet, Jet], [Jet, Jet, Jet, Jet, Jet, Jet, Jet, Jet, Jet, Jet, Jet, Jet, Jet], [Jet, Jet, Jet, Jet, Jet, Jet, Jet, Jet, Jet, Jet, Jet], [Jet, Jet, Jet, Jet, Jet, Jet, Jet, Jet, Jet, Jet, Jet], [Jet, Jet, Jet, Jet, Jet, Jet, Jet], [Jet, Jet, Jet, Jet, Jet, Jet, Jet], [Jet, Jet, Jet, Jet, Jet, Jet, Jet], [Jet, Jet, Jet, Jet, Jet, Jet], [Jet, Jet, Jet, Jet, Jet, Jet, Jet, Jet, Jet, Jet, Jet, Jet, Jet, Jet, Jet], [Jet, Jet, Jet, Jet, Jet, Jet, Jet, Jet, Jet, Jet, Jet, Jet, Jet], [Jet, Jet, Jet, Jet, Jet, Jet], [Jet, Jet, Jet, Jet, Jet, Jet, Jet, Jet], [Jet, Jet, Jet, Jet, Jet, Jet], [Jet, Jet, Jet, Jet, Jet, Jet, Jet, Jet], [Jet, Jet, Jet, Jet, Jet, Jet], [Jet, Jet, Jet, Jet, Jet, Jet, Jet, Jet, Jet, Jet, Jet, Jet, Jet], [Jet, Jet, Jet, Jet, Jet, Jet, Jet, Jet, Jet, Jet], [Jet, Jet, Jet, Jet, Jet, Jet, Jet, Jet, Jet, Jet], [Jet, Jet, Jet, Jet, Jet, Jet, Jet, Jet], [Jet, Jet, Jet, Jet, Jet, Jet, Jet, Jet, Jet], [Jet, Jet, Jet, Jet, Jet, Jet, Jet, Jet, Jet, Jet, Jet, Jet], [Jet, Jet, Jet, Jet, Jet, Jet, Jet, Jet], [Jet, Jet, Jet, Jet, Jet, Jet, Jet, Jet, Jet], [Jet, Jet, Jet, Jet, Jet, Jet, Jet, Jet, Jet, Jet, Jet, Jet, Jet, Jet, Jet, Jet], [Jet, Jet, Jet, Jet, Jet, Jet, Jet, Jet, Jet, Jet], [Jet, Jet, Jet, Jet, Jet, Jet, Jet, Jet, Jet], [Jet, Jet, Jet, Jet, Jet, Jet, Jet, Jet, Jet], [Jet, Jet, Jet, Jet, Jet, Jet, Jet, Jet, Jet, Jet, Jet], [Jet, Jet, Jet, Jet, Jet, Jet, Jet, Jet, Jet, Jet, Jet], [Jet, Jet, Jet, Jet, Jet, Jet, Jet, Jet, Jet, Jet, Jet], [Jet, Jet, Jet, Jet, Jet, Jet, Jet, Jet, Jet, Jet, Jet, Jet], [Jet, Jet, Jet, Jet, Jet, Jet, Jet, Jet], [Jet, Jet, Jet, Jet, Jet, Jet, Jet, Jet, Jet, Jet, Jet, Jet], [Jet, Jet, Jet, Jet, Jet, Jet, Jet], [Jet, Jet, Jet, Jet, Jet, Jet, Jet, Jet, Jet, Jet, Jet, Jet, Jet], [Jet, Jet, Jet, Jet, Jet, Jet, Jet, Jet], [Jet, Jet, Jet, Jet, Jet, Jet, Jet, Jet, Jet, Jet, Jet, Jet, Jet, Jet, Jet, Jet, Jet, Jet, Jet, Jet], [Jet, Jet, Jet, Jet, Jet, Jet, Jet, Jet, Jet, ... Jet, Jet, Jet, Jet, Jet, Jet, Jet, Jet, Jet, Jet], [Jet, Jet, Jet, Jet, Jet, Jet, Jet, Jet], [Jet, Jet, Jet, Jet], [Jet, Jet, Jet, Jet, Jet, Jet], [Jet, Jet, Jet, Jet, Jet, Jet, Jet, Jet], [Jet, Jet, Jet, Jet, Jet, Jet, Jet, Jet, Jet], [Jet, Jet, Jet, Jet, Jet, Jet, Jet, Jet, Jet, Jet], [Jet, Jet, Jet, Jet, Jet, Jet, Jet, Jet, Jet, Jet], [Jet, Jet, Jet, Jet, Jet, Jet, Jet, Jet, Jet, Jet], [Jet, Jet, Jet, Jet, Jet, Jet, Jet, Jet, Jet, Jet, Jet], [Jet, Jet, Jet, Jet, Jet, Jet, Jet, Jet], [Jet, Jet, Jet, Jet, Jet, Jet, Jet, Jet, Jet], [Jet, Jet, Jet, Jet, Jet, Jet, Jet], [Jet, Jet, Jet, Jet, Jet, Jet, Jet, Jet, Jet, Jet, Jet, Jet, Jet, Jet], [Jet, Jet, Jet, Jet, Jet, Jet, Jet, Jet, Jet, Jet, Jet, Jet, Jet], [Jet, Jet, Jet, Jet, Jet, Jet, Jet, Jet, Jet, Jet], [Jet, Jet, Jet, Jet, Jet, Jet, Jet, Jet, Jet, Jet, Jet, Jet, Jet, Jet, Jet, Jet], [Jet, Jet, Jet, Jet, Jet], [Jet, Jet, Jet, Jet, Jet, Jet], [Jet, Jet, Jet, Jet, Jet, Jet, Jet, Jet, Jet, Jet], [Jet, Jet, Jet, Jet, Jet, Jet, Jet, Jet, Jet, Jet, Jet, Jet, Jet, Jet, Jet, Jet], [Jet, Jet, Jet, Jet, Jet, Jet], [Jet, Jet, Jet, Jet, Jet, Jet, Jet], [Jet, Jet, Jet, Jet, Jet, Jet, Jet, Jet, Jet], [Jet, Jet, Jet, Jet, Jet, Jet, Jet, Jet, Jet, Jet, Jet, Jet, Jet, Jet, Jet], [Jet, Jet, Jet, Jet, Jet, Jet, Jet, Jet, Jet, Jet], [Jet, Jet, Jet, Jet, Jet, Jet, Jet, Jet, Jet], [Jet, Jet, Jet, Jet, Jet, Jet, Jet, Jet, Jet, Jet, Jet, Jet, Jet, Jet], [Jet, Jet, Jet, Jet, Jet, Jet, Jet], [Jet, Jet, Jet, Jet, Jet, Jet, Jet, Jet, Jet], [Jet, Jet, Jet, Jet, Jet, Jet, Jet, Jet, Jet, Jet, Jet, Jet, Jet], [Jet, Jet, Jet, Jet, Jet, Jet, Jet, Jet, Jet], [Jet, Jet, Jet, Jet, Jet, Jet, Jet], [Jet, Jet, Jet, Jet, Jet, Jet, Jet, Jet, Jet], [Jet, Jet, Jet, Jet, Jet, Jet], [Jet, Jet, Jet, Jet, Jet], [Jet, Jet, Jet, Jet, Jet, Jet], [Jet, Jet, Jet, Jet], [Jet, Jet, Jet, Jet, Jet], [Jet, Jet, Jet, Jet, Jet, Jet, Jet, Jet, Jet, Jet, Jet, Jet], [Jet, Jet, Jet, Jet, Jet, Jet, Jet, Jet, Jet], [Jet, Jet, Jet, Jet, Jet, Jet, Jet, Jet, Jet, Jet, Jet, Jet, Jet, Jet, Jet], [Jet, Jet, Jet, Jet, Jet, Jet, Jet, Jet, Jet, Jet, Jet, Jet, Jet, Jet], [Jet, Jet, Jet, Jet, Jet, Jet, Jet, Jet, Jet], [Jet, Jet, Jet, Jet, Jet, Jet, Jet, Jet, Jet, Jet, Jet, Jet], [Jet, Jet, Jet, Jet, Jet, Jet], [Jet, Jet, Jet, Jet, Jet, Jet, Jet, Jet, Jet, Jet, Jet, Jet, Jet], [Jet, Jet, Jet, Jet, Jet, Jet, Jet, Jet, Jet], [Jet, Jet, Jet, Jet, Jet, Jet, Jet], [Jet, Jet, Jet, Jet, Jet, Jet, Jet, Jet, Jet], [Jet, Jet, Jet, Jet, Jet, Jet, Jet, Jet], [Jet, Jet, Jet, Jet, Jet, Jet, Jet, Jet, Jet], [Jet, Jet, Jet, Jet, Jet, Jet, Jet], [Jet, Jet, Jet, Jet, Jet, Jet, Jet, Jet, Jet, Jet, Jet, Jet], [Jet, Jet, Jet, Jet, Jet, Jet, Jet, Jet, Jet, Jet, Jet, Jet, Jet, Jet, Jet, Jet], [Jet, Jet, Jet, Jet, Jet, Jet, Jet, Jet, Jet, Jet, Jet, Jet, Jet], [Jet, Jet, Jet, Jet, Jet, Jet, Jet, Jet, Jet, Jet, Jet, Jet, Jet], [Jet, Jet, Jet, Jet, Jet, Jet], [Jet, Jet, Jet, Jet, Jet, Jet, Jet, Jet, Jet, Jet, Jet], [Jet, Jet, Jet, Jet, Jet, Jet, Jet, Jet, Jet, Jet, Jet, Jet], [Jet, Jet, Jet, Jet, Jet, Jet, Jet, Jet], [Jet, Jet, Jet, Jet, Jet, Jet, Jet, Jet, Jet, Jet, Jet, Jet, Jet, Jet, Jet], [Jet, Jet, Jet, Jet, Jet, Jet, Jet], [Jet, Jet, Jet, Jet, Jet, Jet, Jet, Jet, Jet, Jet, Jet], [Jet, Jet, Jet, Jet, Jet, Jet, Jet, Jet, Jet, Jet, Jet, Jet, Jet], [Jet, Jet, Jet, Jet, Jet, Jet, Jet, Jet, Jet, Jet, Jet, Jet], [Jet, Jet, Jet, Jet, Jet, Jet, Jet, Jet, Jet], [Jet, Jet, Jet, Jet], [Jet, Jet, Jet, Jet, Jet, Jet, Jet, Jet, Jet, Jet, Jet, Jet, Jet, Jet], [Jet, Jet, Jet, Jet, Jet, Jet, Jet, Jet, Jet, Jet], [Jet, Jet, Jet, Jet, Jet, Jet], [Jet, Jet, Jet, Jet, Jet, Jet, Jet, Jet, Jet, Jet], [Jet, Jet, Jet, Jet, Jet, Jet, Jet], [Jet, Jet, Jet, Jet], [Jet, Jet, Jet, Jet, Jet, Jet, Jet, Jet], [Jet, Jet, Jet, Jet, Jet, Jet, Jet], [Jet, Jet, Jet, Jet, Jet, Jet], [Jet, Jet, Jet, Jet, Jet, Jet, Jet, Jet, Jet], [Jet, Jet, Jet, Jet, Jet, Jet, Jet], [Jet, Jet, Jet, Jet, Jet, Jet, Jet, Jet, Jet, Jet, Jet], [Jet, Jet, Jet, Jet, Jet, Jet, Jet, Jet, Jet, Jet, Jet, Jet, Jet], [Jet, Jet, Jet, Jet, Jet, Jet, Jet, Jet, Jet, Jet, Jet, Jet], [Jet, Jet, Jet, Jet, Jet], [Jet, Jet, Jet, Jet, Jet, Jet, Jet], [Jet, Jet, Jet, Jet, Jet, Jet, Jet, Jet, Jet, Jet, Jet], [Jet, Jet, Jet, Jet, Jet, Jet, Jet, Jet, Jet, Jet, Jet, Jet, Jet], [Jet, Jet, Jet, Jet, Jet, Jet, Jet, Jet, Jet], [Jet, Jet, Jet, Jet], [Jet, Jet, Jet, Jet, Jet, Jet, Jet, Jet, Jet, Jet, Jet], [Jet, Jet, Jet, Jet, Jet, Jet, Jet], [Jet, Jet, Jet, Jet], [Jet, Jet, Jet, Jet, Jet, Jet], [Jet, Jet, Jet, Jet, Jet, Jet, Jet, Jet, Jet], [Jet, Jet, Jet, Jet, Jet, Jet, Jet, Jet, Jet], [Jet, Jet, Jet, Jet, Jet, Jet, Jet], [Jet, Jet, Jet, Jet, Jet, Jet, Jet, Jet, Jet, Jet, Jet, Jet, Jet, Jet, Jet, Jet], [Jet, Jet, Jet, Jet], [Jet, Jet, Jet, Jet, Jet, Jet, Jet, Jet], [Jet, Jet, Jet, Jet, Jet, Jet, Jet, Jet, Jet, Jet, Jet], [Jet, Jet, Jet, Jet, Jet, Jet, Jet, Jet], [Jet, Jet, Jet, Jet, Jet, Jet, Jet, Jet], [Jet, Jet, Jet, Jet, Jet, Jet, Jet, Jet, Jet, Jet, Jet, Jet], [Jet, Jet, Jet, Jet, Jet, Jet, Jet, Jet, Jet, Jet, Jet]]'"
      ]
     },
     "execution_count": 47,
     "metadata": {},
     "output_type": "execute_result"
    }
   ],
   "source": [
    "ak.Array._str(j, limit_value=10000)"
   ]
  },
  {
   "cell_type": "code",
   "execution_count": null,
   "metadata": {},
   "outputs": [],
   "source": []
  }
 ],
 "metadata": {
  "kernelspec": {
   "display_name": "Python 3",
   "language": "python",
   "name": "python3"
  },
  "language_info": {
   "codemirror_mode": {
    "name": "ipython",
    "version": 3
   },
   "file_extension": ".py",
   "mimetype": "text/x-python",
   "name": "python",
   "nbconvert_exporter": "python",
   "pygments_lexer": "ipython3",
   "version": "3.8.3"
  }
 },
 "nbformat": 4,
 "nbformat_minor": 2
}
