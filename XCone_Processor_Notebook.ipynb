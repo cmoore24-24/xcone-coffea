{
 "cells": [
  {
   "cell_type": "code",
   "execution_count": 4,
   "metadata": {},
   "outputs": [],
   "source": [
    "import coffea\n",
    "import numpy as np\n",
    "import awkward as ak\n",
    "from coffea import hist, processor\n",
    "from coffea.analysis_tools import PackedSelection\n",
    "from coffea.nanoevents import NanoEventsFactory, NanoAODSchema"
   ]
  },
  {
   "cell_type": "code",
   "execution_count": 5,
   "metadata": {},
   "outputs": [],
   "source": [
    "fname = '/afs/crc.nd.edu/user/i/imcalist/Public/XConettbar.root'\n",
    "events = NanoEventsFactory.from_root(fname, schemaclass=NanoAODSchema,entry_start=0).events()"
   ]
  },
  {
   "cell_type": "code",
   "execution_count": 2,
   "metadata": {},
   "outputs": [],
   "source": [
    "def isPresElec(pt, eta, dxy, dz, miniIso):\n",
    "    pt    = (pt       > 32)\n",
    "    eta   = (abs(eta) < 2.4)\n",
    "    dxy   = (abs(dxy) < 0.05)\n",
    "    dz    = (abs(dz)  < 0.1)\n",
    "    iso   = (miniIso  < 0.4)\n",
    "    return (pt & eta & dxy & dz & iso)\n",
    "\n",
    "def isPresMuon(dxy, dz, eta, pt):\n",
    "    pt_mask    = (pt         > 27)\n",
    "    eta_mask   = (abs(eta)   < 2.4)\n",
    "    dxy_mask   = (abs(dxy)   < 0.2)\n",
    "    dz_mask    = (abs(dz)    < 0.5)\n",
    "    return (pt_mask & eta_mask & dxy_mask & dz_mask)\n",
    "\n",
    "def isLooseElec(miniPFRelIso_all,sip3d,lostHits):\n",
    "    return (miniPFRelIso_all<0.4) & (sip3d<8) & (lostHits<=1)\n",
    "\n",
    "def isLooseMuon(miniPFRelIso_all,sip3d):\n",
    "    return (miniPFRelIso_all<0.4) & (sip3d<8)\n",
    "\n",
    "def isClean(obj_A, obj_B, drmin=0.4):\n",
    "    objB_near, objB_DR = obj_A.nearest(obj_B, return_metric=True)\n",
    "    mask = ak.fill_none(objB_DR > drmin, True)\n",
    "    return (mask)"
   ]
  },
  {
   "cell_type": "code",
   "execution_count": 6,
   "metadata": {},
   "outputs": [
    {
     "name": "stdout",
     "output_type": "stream",
     "text": [
      "Total events: 14400\n"
     ]
    }
   ],
   "source": [
    "e = events.Electron\n",
    "j = events.XConeJet\n",
    "j = ak.with_name(j, \"PtEtaPhiMLorentzVector\")\n",
    "mu = events.Muon\n",
    "met = events.MET\n",
    "print(\"Total events: \"+ str(ak.num(e, axis=0)))"
   ]
  },
  {
   "cell_type": "code",
   "execution_count": 8,
   "metadata": {},
   "outputs": [],
   "source": [
    "e['isPresElec'] = isPresElec(e.pt, e.eta, e.dxy, e.dz, e.miniPFRelIso_all)\n",
    "e['isLooseElec'] = isLooseElec(e.miniPFRelIso_all, e.sip3d, e.lostHits)\n",
    "e = e[e.isPresElec & e.isLooseElec]\n",
    "elecpt = ak.flatten(e.pt)\n",
    "eleceta = ak.flatten(e.eta)\n",
    "elecphi = ak.flatten(e.phi)\n",
    "elecCount = ak.num(e, axis=1)"
   ]
  },
  {
   "cell_type": "code",
   "execution_count": 9,
   "metadata": {},
   "outputs": [],
   "source": [
    "mu['isPresMuon']= isPresMuon(mu.dxy, mu.dz, mu.eta, mu.pt)\n",
    "mu['isLooseMuon'] = isLooseMuon(mu.miniPFRelIso_all, mu.sip3d)\n",
    "mu = mu[mu.isPresMuon & mu.isLooseMuon]\n",
    "muonpt = ak.flatten(mu.pt)\n",
    "muoneta = ak.flatten(mu.eta)\n",
    "muonphi = ak.flatten(mu.phi)\n",
    "muonCount = ak.num(mu,axis=1)"
   ]
  },
  {
   "cell_type": "code",
   "execution_count": 10,
   "metadata": {},
   "outputs": [],
   "source": [
    "singLep = elecCount + muonCount ==1"
   ]
  },
  {
   "cell_type": "code",
   "execution_count": 13,
   "metadata": {},
   "outputs": [
    {
     "data": {
      "text/plain": [
       "<Array [23.6, 92.5, 75.2, ... 26.5, 95.9, 23.4] type='14400 * float32[parameters...'>"
      ]
     },
     "execution_count": 13,
     "metadata": {},
     "output_type": "execute_result"
    }
   ],
   "source": [
    "met = events.MET\n",
    "met.pt"
   ]
  },
  {
   "cell_type": "code",
   "execution_count": 15,
   "metadata": {},
   "outputs": [
    {
     "data": {
      "text/plain": [
       "<Array [21.6, 15.8, 173, ... 84.8, 26.5, 23.4] type='6232 * float32[parameters={...'>"
      ]
     },
     "execution_count": 15,
     "metadata": {},
     "output_type": "execute_result"
    }
   ],
   "source": [
    "met = met[singLep]\n",
    "miss = ak.flatten(met.pt, axis = 0)\n",
    "miss"
   ]
  },
  {
   "cell_type": "code",
   "execution_count": null,
   "metadata": {},
   "outputs": [],
   "source": []
  }
 ],
 "metadata": {
  "kernelspec": {
   "display_name": "coffea-env",
   "language": "python",
   "name": "coffea-env"
  },
  "language_info": {
   "codemirror_mode": {
    "name": "ipython",
    "version": 3
   },
   "file_extension": ".py",
   "mimetype": "text/x-python",
   "name": "python",
   "nbconvert_exporter": "python",
   "pygments_lexer": "ipython3",
   "version": "3.8.3"
  }
 },
 "nbformat": 4,
 "nbformat_minor": 2
}
